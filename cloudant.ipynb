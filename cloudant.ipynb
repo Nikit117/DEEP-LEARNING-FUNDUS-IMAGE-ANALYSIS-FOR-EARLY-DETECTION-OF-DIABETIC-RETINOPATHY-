{
  "nbformat": 4,
  "nbformat_minor": 0,
  "metadata": {
    "colab": {
      "provenance": []
    },
    "kernelspec": {
      "name": "python3",
      "display_name": "Python 3"
    },
    "language_info": {
      "name": "python"
    }
  },
  "cells": [
    {
      "cell_type": "code",
      "execution_count": 2,
      "metadata": {
        "colab": {
          "base_uri": "https://localhost:8080/"
        },
        "id": "UkahMaRCcryI",
        "outputId": "7c7beadc-642f-4de5-ab2b-317ee1bf55e7"
      },
      "outputs": [
        {
          "output_type": "stream",
          "name": "stdout",
          "text": [
            "\u001b[?25l\r\u001b[K     |████                            | 10 kB 23.5 MB/s eta 0:00:01\r\u001b[K     |████████▏                       | 20 kB 20.3 MB/s eta 0:00:01\r\u001b[K     |████████████▏                   | 30 kB 25.8 MB/s eta 0:00:01\r\u001b[K     |████████████████▎               | 40 kB 8.0 MB/s eta 0:00:01\r\u001b[K     |████████████████████▍           | 51 kB 6.3 MB/s eta 0:00:01\r\u001b[K     |████████████████████████▍       | 61 kB 7.4 MB/s eta 0:00:01\r\u001b[K     |████████████████████████████▌   | 71 kB 8.3 MB/s eta 0:00:01\r\u001b[K     |████████████████████████████████| 80 kB 4.9 MB/s \n",
            "\u001b[?25h"
          ]
        }
      ],
      "source": [
        "pip install -q cloudant"
      ]
    },
    {
      "cell_type": "code",
      "source": [
        "from cloudant.client import Cloudant"
      ],
      "metadata": {
        "id": "66D-b0IieeA2"
      },
      "execution_count": 3,
      "outputs": []
    },
    {
      "cell_type": "code",
      "source": [
        "client = Cloudant.iam('c2122ee4-b4d5-4cd4-a15a-26af8dc9533e-bluemix','1HTTyEGgmFvrcaEzQqHflsuHpqZ3Y4UUsChgqXcIW_Ze',connect=True)"
      ],
      "metadata": {
        "id": "C0sH7ap_erR3"
      },
      "execution_count": 4,
      "outputs": []
    },
    {
      "cell_type": "code",
      "source": [
        "my_database=client.create_database('my_database')"
      ],
      "metadata": {
        "id": "ge6N0NzGfZp6"
      },
      "execution_count": 5,
      "outputs": []
    }
  ]
}